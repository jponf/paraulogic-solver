{
 "cells": [
  {
   "cell_type": "code",
   "execution_count": 1,
   "id": "30e09059",
   "metadata": {},
   "outputs": [],
   "source": [
    "import json\n",
    "from pathlib import Path"
   ]
  },
  {
   "cell_type": "code",
   "execution_count": 2,
   "id": "c19cd97f",
   "metadata": {},
   "outputs": [],
   "source": [
    "data_dir = Path(\"..\", \"data\")\n",
    "data_path1 = data_dir / \"words_v2.json\"\n",
    "data_path2 = data_dir / \"words-paraulogicavui-20220622-20250418.json\""
   ]
  },
  {
   "cell_type": "code",
   "execution_count": 3,
   "id": "cb7249cc",
   "metadata": {},
   "outputs": [],
   "source": [
    "data1 = json.load(data_path1.open())"
   ]
  },
  {
   "cell_type": "code",
   "execution_count": 4,
   "id": "ab5f0c76",
   "metadata": {},
   "outputs": [],
   "source": [
    "data2 = json.load(data_path2.open())"
   ]
  },
  {
   "cell_type": "code",
   "execution_count": null,
   "id": "7811e6a1",
   "metadata": {},
   "outputs": [],
   "source": [
    "out_data = data1.copy()\n",
    "\n",
    "existing_words = [\n",
    "    word \n",
    "    for words in out_data[\"words\"]\n",
    "    for word in words \n",
    "    if not word.startswith(\"-\") and not word.endswith(\"-\")\n",
    "]\n",
    "\n",
    "for word_lst in data2[\"words\"]:\n",
    "    to_add = True\n",
    "    for word in word_lst:\n",
    "        if word in existing_words:\n",
    "            to_add = False\n",
    "            break\n",
    "\n",
    "    if to_add:\n",
    "        out_data[\"words\"].append(word_lst)"
   ]
  },
  {
   "cell_type": "code",
   "execution_count": 12,
   "id": "2185c9ba",
   "metadata": {},
   "outputs": [
    {
     "data": {
      "text/plain": [
       "[['de'],\n",
       " ['cuniculicultura'],\n",
       " ['desvear'],\n",
       " ['fructosan'],\n",
       " ['musci-'],\n",
       " ['funcionariat'],\n",
       " ['queda'],\n",
       " ['davallant'],\n",
       " ['-a', 'dècuple'],\n",
       " ['cuixé'],\n",
       " ['complexant'],\n",
       " ['bicarbonat'],\n",
       " ['fructofuranosa'],\n",
       " ['palpissera'],\n",
       " ['definició'],\n",
       " ['-centena', 'quatre-centè'],\n",
       " ['bicameralisme'],\n",
       " ['fructan'],\n",
       " ['decuplicar'],\n",
       " ['burriassada'],\n",
       " ['engalonar'],\n",
       " ['decisió'],\n",
       " ['aconfessionalitat'],\n",
       " ['-ana', 'darwinià'],\n",
       " ['mel·li-'],\n",
       " ['bicameral'],\n",
       " ['fotoionització'],\n",
       " ['cloroprè'],\n",
       " ['burriàs'],\n",
       " ['biennal'],\n",
       " ['mecano-'],\n",
       " ['colamina'],\n",
       " ['acompanyament'],\n",
       " ['decidible'],\n",
       " ['beutat'],\n",
       " ['dallò'],\n",
       " ['beset'],\n",
       " ['-a', 'acollidor'],\n",
       " ['matr-', 'matri-'],\n",
       " ['carvacrol'],\n",
       " ['-a', 'fluorimètric'],\n",
       " ['decidir'],\n",
       " ['beverri', 'bevèrria'],\n",
       " ['arner'],\n",
       " ['daixò'],\n",
       " ['-ària', 'quadragenari'],\n",
       " ['mareo-'],\n",
       " ['llongada'],\n",
       " ['fluorè'],\n",
       " ['decatir']]"
      ]
     },
     "execution_count": 12,
     "metadata": {},
     "output_type": "execute_result"
    }
   ],
   "source": [
    "out_data[\"words\"][:50]"
   ]
  },
  {
   "cell_type": "code",
   "execution_count": 14,
   "id": "68896d7f",
   "metadata": {},
   "outputs": [
    {
     "name": "stdout",
     "output_type": "stream",
     "text": [
      "# Entries before cleaning: 74221\n",
      "# Entries after cleaning: 72681\n"
     ]
    }
   ],
   "source": [
    "print(\"# Entries before cleaning:\", len(out_data[\"words\"]))\n",
    "\n",
    "clean_word_lists = []\n",
    "for word_lst in out_data[\"words\"]:\n",
    "    has_root_word = False\n",
    "    for word in word_lst:\n",
    "        if not word.startswith(\"-\") and not word.endswith(\"-\"):\n",
    "            has_root_word = True\n",
    "            break\n",
    "    if has_root_word:\n",
    "        clean_word_lists.append(word_lst)\n",
    "\n",
    "print(\"# Entries after cleaning:\", len(clean_word_lists))\n",
    "\n",
    "out_data[\"words\"] = clean_word_lists"
   ]
  },
  {
   "cell_type": "code",
   "execution_count": 15,
   "id": "d5d601d4",
   "metadata": {},
   "outputs": [],
   "source": [
    "json.dump(out_data, (data_dir / \"words_v3.json\").open(\"wt\"))"
   ]
  }
 ],
 "metadata": {
  "kernelspec": {
   "display_name": ".venv",
   "language": "python",
   "name": "python3"
  },
  "language_info": {
   "codemirror_mode": {
    "name": "ipython",
    "version": 3
   },
   "file_extension": ".py",
   "mimetype": "text/x-python",
   "name": "python",
   "nbconvert_exporter": "python",
   "pygments_lexer": "ipython3",
   "version": "3.13.2"
  }
 },
 "nbformat": 4,
 "nbformat_minor": 5
}
